{
 "cells": [
  {
   "cell_type": "code",
   "execution_count": 5,
   "id": "4bd30880",
   "metadata": {},
   "outputs": [
    {
     "name": "stdout",
     "output_type": "stream",
     "text": [
      "Population: 1780000\n",
      "Existing Cases: 99\n",
      "5.561797752808989\n"
     ]
    }
   ],
   "source": [
    "# prevalence No.1\n",
    "population = int(input(\"Population: \"))\n",
    "existingCases = int(input(\"Number of Existing Cases: \"))\n",
    "prevalence = (existingCases / population) * 100000\n",
    "print(prevalence)"
   ]
  },
  {
   "cell_type": "code",
   "execution_count": 5,
   "id": "36f45e5e",
   "metadata": {},
   "outputs": [
    {
     "name": "stdout",
     "output_type": "stream",
     "text": [
      "Number of New Cases: 19\n",
      "1.0674157303370786\n"
     ]
    }
   ],
   "source": [
    "# incidence No.1\n",
    "newCases = int(input(\"Number of New Cases: \"))\n",
    "incidence = (newCases / population) * 100000 \n",
    "print(incidence)"
   ]
  },
  {
   "cell_type": "code",
   "execution_count": 7,
   "id": "0246d551",
   "metadata": {},
   "outputs": [
    {
     "name": "stdout",
     "output_type": "stream",
     "text": [
      "Number of those who died: 2\n",
      "Number of those who had the disease: 99\n",
      "2020.2020202020203\n"
     ]
    }
   ],
   "source": [
    "# mortality rate No.1\n",
    "deaths = int(input(\"Number of those who died: \"))\n",
    "segment = int(input(\"Number of those who had the disease: \"))\n",
    "mortalityRate = (deaths / segment) * 100000\n",
    "print(mortalityRate)"
   ]
  },
  {
   "cell_type": "code",
   "execution_count": 14,
   "id": "89d097a2",
   "metadata": {},
   "outputs": [
    {
     "name": "stdout",
     "output_type": "stream",
     "text": [
      "13\n",
      "3\n"
     ]
    }
   ],
   "source": [
    "# years of potential life lost No.1\n",
    "lifeExpectancy = 77\n",
    "ages = [64, 74]\n",
    "print(lifeExpectancy - ages[0])\n",
    "print(lifeExpectancy - ages[1])\n"
   ]
  },
  {
   "cell_type": "code",
   "execution_count": 15,
   "id": "7545a86c",
   "metadata": {},
   "outputs": [
    {
     "name": "stdout",
     "output_type": "stream",
     "text": [
      "8.0\n"
     ]
    }
   ],
   "source": [
    "lifelost = [13, 3]\n",
    "yopl = sum(lifelost) / len(lifelost)\n",
    "print(yopl)"
   ]
  },
  {
   "cell_type": "code",
   "execution_count": 10,
   "id": "472e9841",
   "metadata": {},
   "outputs": [
    {
     "name": "stdout",
     "output_type": "stream",
     "text": [
      "Population: 100000\n",
      "Number of Existing Cases: 3000\n",
      "3000.0\n"
     ]
    }
   ],
   "source": [
    "# prevalence No.4\n",
    "population = int(input(\"Population: \"))\n",
    "existingCases = int(input(\"Number of Existing Cases: \"))\n",
    "prevalence = (existingCases / population) * 100000\n",
    "print(prevalence)"
   ]
  },
  {
   "cell_type": "code",
   "execution_count": 11,
   "id": "a545a78c",
   "metadata": {},
   "outputs": [
    {
     "name": "stdout",
     "output_type": "stream",
     "text": [
      "Number of New Cases: 2500\n",
      "2500.0\n"
     ]
    }
   ],
   "source": [
    "# incidence No.4\n",
    "newCases = int(input(\"Number of New Cases: \"))\n",
    "incidence = (newCases / population) * 100000 \n",
    "print(incidence)"
   ]
  },
  {
   "cell_type": "code",
   "execution_count": 12,
   "id": "c04c1064",
   "metadata": {},
   "outputs": [
    {
     "name": "stdout",
     "output_type": "stream",
     "text": [
      "Number of those who died: 40\n",
      "Number of those who had the disease: 3000\n",
      "1333.3333333333335\n"
     ]
    }
   ],
   "source": [
    "# mortality rate No.4\n",
    "deaths = int(input(\"Number of those who died: \"))\n",
    "segment = int(input(\"Number of those who had the disease: \"))\n",
    "mortalityRate = (deaths / segment) * 100000\n",
    "print(mortalityRate)"
   ]
  },
  {
   "cell_type": "code",
   "execution_count": 9,
   "id": "f6dff1ea",
   "metadata": {},
   "outputs": [
    {
     "name": "stdout",
     "output_type": "stream",
     "text": [
      "45\n",
      "32\n",
      "49\n",
      "40\n",
      "25\n"
     ]
    }
   ],
   "source": [
    "# years of potential life lost No.4\n",
    "lifeExpectancy = 77\n",
    "ages = [32, 45, 28, 37, 52]\n",
    "print(lifeExpectancy - ages[0])\n",
    "print(lifeExpectancy - ages[1])\n",
    "print(lifeExpectancy - ages[2])\n",
    "print(lifeExpectancy - ages[3])\n",
    "print(lifeExpectancy - ages[4])"
   ]
  },
  {
   "cell_type": "code",
   "execution_count": 5,
   "id": "a4b1fd97",
   "metadata": {},
   "outputs": [
    {
     "name": "stdout",
     "output_type": "stream",
     "text": [
      "38.2\n"
     ]
    }
   ],
   "source": [
    "lifelost = [45, 32, 49, 40, 25]\n",
    "yopl = sum(lifelost) / len(lifelost)\n",
    "print(yopl)"
   ]
  },
  {
   "cell_type": "code",
   "execution_count": null,
   "id": "0964cd3f",
   "metadata": {},
   "outputs": [],
   "source": []
  }
 ],
 "metadata": {
  "kernelspec": {
   "display_name": "Python 3 (ipykernel)",
   "language": "python",
   "name": "python3"
  },
  "language_info": {
   "codemirror_mode": {
    "name": "ipython",
    "version": 3
   },
   "file_extension": ".py",
   "mimetype": "text/x-python",
   "name": "python",
   "nbconvert_exporter": "python",
   "pygments_lexer": "ipython3",
   "version": "3.10.9"
  }
 },
 "nbformat": 4,
 "nbformat_minor": 5
}
